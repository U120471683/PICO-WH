{
 "cells": [
  {
   "cell_type": "code",
   "execution_count": null,
   "metadata": {},
   "outputs": [],
   "source": [
    "# 輸入身高（公分）和體重（公斤）\n",
    "height_cm = float(input(\"請輸入您的身高（公分）: \"))\n",
    "weight_kg = float(input(\"請輸入您的體重（公斤）: \"))\n",
    "\n",
    "# 將身高轉換為公尺\n",
    "height_m = height_cm / 100\n",
    "\n",
    "# 計算BMI值\n",
    "bmi = weight_kg / (height_m ** 2)\n",
    "\n",
    "# 判斷體重狀況\n",
    "if bmi < 18.5:\n",
    "    status = \"體重過輕\"\n",
    "elif 18.5 <= bmi < 24:\n",
    "    status = \"體重正常\"\n",
    "elif 24 <= bmi < 27:\n",
    "    status = \"過重\"\n",
    "elif 27 <= bmi < 30:\n",
    "    status = \"輕度肥胖\"\n",
    "elif 30 <= bmi < 35:\n",
    "    status = \"中度肥胖\"\n",
    "else:\n",
    "    status = \"重度肥胖\"\n",
    "\n",
    "# 輸出結果\n",
    "print(f\"您的BMI值為: {bmi:.2f}\")\n",
    "print(f\"您的體重狀況為: {status}\")\n",
    "\n"
   ]
  },
  {
   "cell_type": "code",
   "execution_count": null,
   "metadata": {},
   "outputs": [],
   "source": [
    "kg=0  #清除變數\n",
    "cm=0  #清除變數\n",
    "try:    \n",
    "    cm = int(input(\"請輸入身高(公分):\"))\n",
    "    if cm > 300:\n",
    "            raise Exception(\"超過300公分\")\n",
    "except ValueError:\n",
    "    print('輸入格式錯誤')\n",
    "except Exception as e:\n",
    "    print(f'輸入錯誤{cm}')\n",
    "\n",
    "try:    \n",
    "    kg = int(input(\"請輸入體重(公斤):\"))\n",
    "    if kg > 300:\n",
    "          raise Exception(\"超過300公分\")\n",
    "except ValueError:\n",
    "    print('輸入格式錯誤')\n",
    "except Exception as e:\n",
    "    print(f'輸入錯誤{kg}')\n",
    "\n",
    "print(f'身高={cm},體重={kg}')\n",
    "cm=(cm/100)*(cm/100)\n",
    "BMI=kg/cm\n",
    "print(f'BMI={BMI}')\n",
    "if BMI >=35:\n",
    "    print(\"重度肥胖：BMI≧35\")\n",
    "elif BMI >=30:\n",
    "    print(\"中度肥胖：30≦BMI\")\n",
    "elif BMI >=27:\n",
    "    print(\"輕度肥胖：27≦BMI\")\n",
    "elif BMI >=24:\n",
    "    print(\"過重\")\n",
    "elif BMI >=18.5:\n",
    "    print(\"正常範圍\")\n",
    "else:\n",
    "    print(\"體重過輕\")\n",
    "print('程式結束')\n",
    "\n"
   ]
  },
  {
   "cell_type": "code",
   "execution_count": null,
   "metadata": {},
   "outputs": [],
   "source": [
    "\n"
   ]
  }
 ],
 "metadata": {
  "kernelspec": {
   "display_name": "venv1",
   "language": "python",
   "name": "python3"
  },
  "language_info": {
   "name": "python",
   "version": "3.11.9"
  }
 },
 "nbformat": 4,
 "nbformat_minor": 2
}
