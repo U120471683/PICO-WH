{
 "cells": [
  {
   "cell_type": "code",
   "execution_count": 2,
   "metadata": {},
   "outputs": [
    {
     "name": "stdout",
     "output_type": "stream",
     "text": [
      "沒有這個目錄\n"
     ]
    }
   ],
   "source": [
    "\n",
    "import os\n",
    "os.path.abspath(__name__) # 獲取當前模組的絕對路徑\n",
    "\n",
    "#os.path.realpath(__file__) # 獲取當前檔案的絕對路徑（這行被註解掉了）\n",
    "\n",
    "root_dir = os.getcwd() # 獲取當前工作目錄   \n",
    "data_dir = os.path.join(root_dir, 'data') # 組合目錄\n",
    "                                          # 將工作目錄與 'data' 子目錄結合成一個新的路徑\n",
    "\n",
    "data_dir # 打印出 data_dir 的值\n",
    "\n",
    "# 檢查目錄是否存在\n",
    "# 檢查 data_dir 是否是一個目錄\n",
    "if os.path.isdir(data_dir):\n",
    "    print(\"有這個目錄\")\n",
    "else:\n",
    "    print(\"沒有這個目錄\")"
   ]
  }
 ],
 "metadata": {
  "kernelspec": {
   "display_name": "Python 3",
   "language": "python",
   "name": "python3"
  },
  "language_info": {
   "codemirror_mode": {
    "name": "ipython",
    "version": 3
   },
   "file_extension": ".py",
   "mimetype": "text/x-python",
   "name": "python",
   "nbconvert_exporter": "python",
   "pygments_lexer": "ipython3",
   "version": "3.11.4"
  }
 },
 "nbformat": 4,
 "nbformat_minor": 2
}
