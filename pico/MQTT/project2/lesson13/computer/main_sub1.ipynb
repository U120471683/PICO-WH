{
 "cells": [
  {
   "cell_type": "code",
   "execution_count": 12,
   "metadata": {},
   "outputs": [],
   "source": [
    "\n",
    "import os\n",
    "os.path.abspath(__name__)\n",
    "#os.path.realpath(__file__)\n",
    "root_dir = os.getcwd()\n",
    "data_dir = os.path.join(root_dir, 'data')\n",
    "data_dir\n",
    "if not os.path.isdir(data_dir):    \n",
    "    os.mkdir('data')\n"
   ]
  },
  {
   "cell_type": "code",
   "execution_count": 14,
   "metadata": {},
   "outputs": [
    {
     "data": {
      "text/plain": [
       "'c:\\\\Users\\\\shich\\\\OneDrive\\\\文件\\\\GitHub\\\\PICO-WH\\\\pico\\\\MQTT\\\\project2\\\\lesson13\\\\computer\\\\data\\\\2024-10-14.csv'"
      ]
     },
     "execution_count": 14,
     "metadata": {},
     "output_type": "execute_result"
    }
   ],
   "source": [
    "\n",
    "from datetime import datetime\n",
    "today = datetime.today()\n",
    "filename = today.strftime(\"%Y-%m-%d\") + \".csv\"\n",
    "#get_file_abspath\n",
    "full_path = os.path.join(data_dir,filename)\n",
    "full_path\n"
   ]
  },
  {
   "cell_type": "code",
   "execution_count": 15,
   "metadata": {},
   "outputs": [],
   "source": [
    "\n",
    "if not os.path.exists(full_path):\n",
    "    #沒有這個檔,建立檔案\n",
    "    print('沒有這個檔')\n",
    "    with open(full_path,mode='w',encoding='utf-8',newline='') as file:\n",
    "        file.write('時間,設備,值\\n')"
   ]
  },
  {
   "cell_type": "code",
   "execution_count": 16,
   "metadata": {},
   "outputs": [],
   "source": [
    "\n",
    "import csv\n",
    "now = datetime.now()\n",
    "now_str = today.strftime(\"%Y-%m-%d %H:%M:%S\")\n",
    "header = [now_str, \"SA-01/LED_LEVEL\", 55]\n",
    "with open(full_path, mode='a', newline='', encoding='utf-8') as file:\n",
    "    writer = csv.writer(file)\n",
    "    writer.writerow(header)"
   ]
  }
 ],
 "metadata": {
  "kernelspec": {
   "display_name": "venv1",
   "language": "python",
   "name": "python3"
  },
  "language_info": {
   "codemirror_mode": {
    "name": "ipython",
    "version": 3
   },
   "file_extension": ".py",
   "mimetype": "text/x-python",
   "name": "python",
   "nbconvert_exporter": "python",
   "pygments_lexer": "ipython3",
   "version": "3.11.9"
  }
 },
 "nbformat": 4,
 "nbformat_minor": 2
}
