{
 "cells": [
  {
   "cell_type": "code",
   "execution_count": null,
   "metadata": {},
   "outputs": [],
   "source": [
    "\n",
    "import sqlite3      # Import the sqlite3 module to work with the SQLite database    \n",
    "from sqlite3 import Error       # Import the Error class from the sqlite3 module  to handle errors  in the database connection  process\n",
    "\n",
    "try:\n",
    "    conn = sqlite3.connect('./data/pico.db')    # Create a connection object to the database            \n",
    "except Exception as e:    # Catch any exception that occurs during the connection process           \n",
    "    print(e)   # Print the exception to the console if an exception occurs              "
   ]
  },
  {
   "cell_type": "code",
   "execution_count": 5,
   "metadata": {},
   "outputs": [
    {
     "data": {
      "text/plain": [
       "<sqlite3.Connection at 0x2108a82a890>"
      ]
     },
     "execution_count": 5,
     "metadata": {},
     "output_type": "execute_result"
    }
   ],
   "source": [
    "conn"
   ]
  },
  {
   "cell_type": "code",
   "execution_count": 26,
   "metadata": {},
   "outputs": [],
   "source": [
    "\n",
    "sql = \"\"\"\n",
    "    INSERT INTO 雞舍(時間,設備,值)\n",
    "    VALUES(?,?,?)\n",
    "    \"\"\"\n",
    "cursor = conn.cursor()\n",
    "cursor.execute(sql,('2024-10-12 16:14:10','SA-59/LED_LEVEL',32.8))\n",
    "conn.commit()\n",
    "cursor.close()\n",
    "conn.close()"
   ]
  }
 ],
 "metadata": {
  "kernelspec": {
   "display_name": "venv1",
   "language": "python",
   "name": "python3"
  },
  "language_info": {
   "codemirror_mode": {
    "name": "ipython",
    "version": 3
   },
   "file_extension": ".py",
   "mimetype": "text/x-python",
   "name": "python",
   "nbconvert_exporter": "python",
   "pygments_lexer": "ipython3",
   "version": "3.11.9"
  }
 },
 "nbformat": 4,
 "nbformat_minor": 2
}
