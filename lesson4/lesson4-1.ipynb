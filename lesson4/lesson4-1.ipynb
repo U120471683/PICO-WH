{
 "cells": [
  {
   "cell_type": "code",
   "execution_count": 17,
   "metadata": {},
   "outputs": [
    {
     "name": "stdout",
     "output_type": "stream",
     "text": [
      "你的年齡是 18\n",
      "你已成年!\n",
      "\n",
      "程式執行完畢 !\n",
      "\n"
     ]
    }
   ],
   "source": [
    "#if \n",
    "\n",
    "age=18\n",
    "\n",
    "if age>=18:\n",
    "    print('你的年齡是',age)\n",
    "    print('你已成年!\\n')\n",
    "else:\n",
    "    print('你的年齡是',age)\n",
    "    print('你尚未成年!\\n')\n",
    "print('程式執行完畢 !\\n')"
   ]
  },
  {
   "cell_type": "code",
   "execution_count": null,
   "metadata": {},
   "outputs": [],
   "source": []
  },
  {
   "cell_type": "code",
   "execution_count": 18,
   "metadata": {},
   "outputs": [
    {
     "name": "stdout",
     "output_type": "stream",
     "text": [
      "可以考駕照\n",
      "應用程式結束\n"
     ]
    }
   ],
   "source": [
    "#if\n",
    "age = 19\n",
    "if age < 18:\n",
    "    print(\"不可以考駕照\")\n",
    "else:\n",
    "    print(\"可以考駕照\")\n",
    "print(\"應用程式結束\")"
   ]
  },
  {
   "cell_type": "code",
   "execution_count": 33,
   "metadata": {},
   "outputs": [
    {
     "data": {
      "text/plain": [
       "550"
      ]
     },
     "execution_count": 33,
     "metadata": {},
     "output_type": "execute_result"
    }
   ],
   "source": [
    "score=input(\"輸入一數值後再按下 enter 鍵後結束程式\")\n",
    "int(score)"
   ]
  },
  {
   "cell_type": "code",
   "execution_count": 36,
   "metadata": {},
   "outputs": [
    {
     "name": "stdout",
     "output_type": "stream",
     "text": [
      "300 y\n"
     ]
    }
   ],
   "source": [
    "\n",
    "score = int(input(\"請輸入學生分數(最高300分):\"))\n",
    "is_add = input(\"學生是否符合加分條件?(y,n)\")\n",
    "\n",
    "print(score, is_add)"
   ]
  },
  {
   "cell_type": "code",
   "execution_count": 37,
   "metadata": {},
   "outputs": [
    {
     "name": "stdout",
     "output_type": "stream",
     "text": [
      "學生分數262.5\n"
     ]
    }
   ],
   "source": [
    "#學生總分為300\n",
    "#有些學生可以加分5%\n",
    "score = int(input(\"請輸入學生分數(最高300分):\"))\n",
    "is_add = input(\"學生是否符合加分條件?(y,n)\")\n",
    "\n",
    "if is_add == \"y\":\n",
    "        score *=1.05\n",
    "print(\"學生分數\"+str(score))\n"
   ]
  },
  {
   "cell_type": "code",
   "execution_count": 40,
   "metadata": {},
   "outputs": [
    {
     "name": "stdout",
     "output_type": "stream",
     "text": [
      "學生分數是304.5\n"
     ]
    }
   ],
   "source": [
    "#字串插補\n",
    "\n",
    "#學生總分為300\n",
    "#有些學生可以加分5%\n",
    "\n",
    "score = int(input(\"請輸入學生分數(最高300分):\"))\n",
    "is_add = input(\"學生是否符合加分條件?(y,n)\")\n",
    "\n",
    "if is_add == \"y\":\n",
    "        score *=1.05\n",
    "#print(\"學生分數\"+str(score)\"\")\n",
    "print(f\"學生分數是{score}\")\n",
    "\n"
   ]
  },
  {
   "cell_type": "code",
   "execution_count": 42,
   "metadata": {},
   "outputs": [
    {
     "name": "stdout",
     "output_type": "stream",
     "text": [
      "學生分數是300\n"
     ]
    }
   ],
   "source": [
    "#字串插補\n",
    "\n",
    "#學生總分為300\n",
    "#有些學生可以加分5%\n",
    "\n",
    "#如果加分超過300,就以300分為準\n",
    "\n",
    "\n",
    "score = int(input(\"請輸入學生分數(最高300分):\"))\n",
    "is_add = input(\"學生是否符合加分條件?(y,n)\")\n",
    "\n",
    "if is_add == \"y\":\n",
    "        score *=1.05\n",
    "        if score > 300:\n",
    "            score = 300\n",
    "            \n",
    "#print(\"學生分數\"+str(score)\"\")\n",
    "print(f\"學生分數是{score}\")\n"
   ]
  },
  {
   "cell_type": "code",
   "execution_count": 43,
   "metadata": {},
   "outputs": [
    {
     "name": "stdout",
     "output_type": "stream",
     "text": [
      "學生分數是300\n"
     ]
    }
   ],
   "source": [
    "#有些學生可以加分5%\n",
    "#如果加分超過300,就以300分為準\n",
    "\n",
    "score = int(input(\"請輸入學生分數(最高300分):\"))\n",
    "is_add = input(\"學生是否符合加分條件?(y,n)\")\n",
    "\n",
    "if is_add == 'y':\n",
    "    score *= 1.05\n",
    "    if score > 300:\n",
    "        score = 300\n",
    "\n",
    "#print('學生分數是' + str(score))\n",
    "print(f'學生分數是{score}')#學生總分為300\n"
   ]
  },
  {
   "cell_type": "code",
   "execution_count": 1,
   "metadata": {},
   "outputs": [
    {
     "name": "stdout",
     "output_type": "stream",
     "text": [
      "輸入錯誤\n",
      "程式結束\n"
     ]
    },
    {
     "ename": "",
     "evalue": "",
     "output_type": "error",
     "traceback": [
      "\u001b[1;31m在目前儲存格或上一個儲存格中執行程式碼時，Kernel 已損毀。\n",
      "\u001b[1;31m請檢閱儲存格中的程式碼，找出失敗的可能原因。\n",
      "\u001b[1;31m如需詳細資訊，請按一下<a href='https://aka.ms/vscodeJupyterKernelCrash'>這裡</a>。\n",
      "\u001b[1;31m如需詳細資料，請檢視 Jupyter <a href='command:jupyter.viewOutput'>記錄</a>。"
     ]
    }
   ],
   "source": [
    "#有些學生可以加分5%\n",
    "#如果加分超過300,就以300分為準\n",
    "try:\n",
    "    score = int(input(\"請輸入學生分數(最高300分):\"))\n",
    "   \n",
    "except:\n",
    "    print(\"輸入錯誤\")\n",
    "    exit()\n",
    "else:    \n",
    "    is_add = input(\"學生是否符合加分條件?(y,n)\")    \n",
    "\n",
    "    if is_add == 'y':\n",
    "        score *= 1.05\n",
    "        if score > 300:\n",
    "            score = 300\n",
    "\n",
    "    #print('學生分數是' + str(score))\n",
    "    print(f'學生分數是{score}')#學生總分為300\n",
    "print(\"程式結束\")\n",
    "\n"
   ]
  },
  {
   "cell_type": "code",
   "execution_count": 2,
   "metadata": {},
   "outputs": [
    {
     "name": "stdout",
     "output_type": "stream",
     "text": [
      "輸入錯誤\n",
      "應用程式結束\n"
     ]
    }
   ],
   "source": [
    "#學生總分為300\n",
    "#有些學生可以加分5%\n",
    "#如果加分超過300,就以300分為準\n",
    "\n",
    "try:\n",
    "    score = int(input(\"請輸入學生分數(最高300分):\"))\n",
    "except:\n",
    "    print(\"輸入錯誤\")\n",
    "else:\n",
    "    is_add = input(\"學生是否符合加分條件?(y,n)\")\n",
    "\n",
    "    if is_add == 'y':\n",
    "        score *= 1.05\n",
    "        if score > 300:\n",
    "            score = 300\n",
    "\n",
    "    #print('學生分數是' + str(score))\n",
    "    print(f'學生分數是{score}')\n",
    "\n",
    "print(\"應用程式結束\")\n"
   ]
  },
  {
   "cell_type": "code",
   "execution_count": 5,
   "metadata": {},
   "outputs": [
    {
     "name": "stdout",
     "output_type": "stream",
     "text": [
      "輸入錯誤\n",
      "應用程式結束\n"
     ]
    }
   ],
   "source": [
    "\n",
    "#學生總分為300\n",
    "#有些學生可以加分5%\n",
    "#如果加分超過300,就以300分為準\n",
    "\n",
    "try:\n",
    "    score = int(input(\"請輸入學生分數(最高300分):\"))\n",
    "except:\n",
    "    print(\"輸入錯誤\")\n",
    "else:\n",
    "    is_add = input(\"學生是否符合加分條件?(y,n)\")\n",
    "\n",
    "    if is_add == 'y':\n",
    "        score *= 1.05\n",
    "        if score > 300:\n",
    "            score = 300\n",
    "\n",
    "    #print('學生分數是' + str(score))\n",
    "    print(f'學生分數是{score}')\n",
    "\n",
    "print(\"應用程式結束\")"
   ]
  },
  {
   "cell_type": "code",
   "execution_count": 3,
   "metadata": {},
   "outputs": [
    {
     "name": "stdout",
     "output_type": "stream",
     "text": [
      "輸入格式有錯\n",
      "應用程式結束\n"
     ]
    }
   ],
   "source": [
    "#學生總分為300\n",
    "#有些學生可以加分5%\n",
    "#如果加分超過300,就以300分為準\n",
    "\n",
    "try:\n",
    "    score = int(input(\"請輸入學生分數(最高300分):\"))\n",
    "    is_add = input(\"學生是否符合加分條件?(y,n)\")\n",
    "\n",
    "    if is_add == 'y':\n",
    "        score *= 1.05\n",
    "        if score > 300:\n",
    "            score = 300\n",
    "\n",
    "    #print('學生分數是' + str(score))\n",
    "    print(f'學生分數是{score}')\n",
    "except ValueError:\n",
    "    print(\"輸入格式有錯\")\n",
    "except Exception:\n",
    "    print(\"不知名的錯誤\")\n",
    "\n",
    "    \n",
    "\n",
    "print(\"應用程式結束\")"
   ]
  },
  {
   "cell_type": "code",
   "execution_count": 7,
   "metadata": {},
   "outputs": [
    {
     "name": "stdout",
     "output_type": "stream",
     "text": [
      "輸入格式有錯\n",
      "應用程式結束\n"
     ]
    }
   ],
   "source": [
    "#學生總分為300\n",
    "#有些學生可以加分5%\n",
    "#如果加分超過300,就以300分為準\n",
    "\n",
    "try:\n",
    "    score = int(input(\"請輸入學生分數(最高300分):\"))\n",
    "    #raise NameError \n",
    "except ValueError:\n",
    "    print(\"輸入格式有錯\")\n",
    "except Exception:\n",
    "    print(\"不知名的錯誤\")\n",
    "else:\n",
    "    is_add = input(\"學生是否符合加分條件?(y,n)\")\n",
    "\n",
    "    if is_add == 'y':\n",
    "        score *= 1.05\n",
    "        if score > 300:\n",
    "            score = 300\n",
    "\n",
    "    #print('學生分數是' + str(score))\n",
    "    print(f'學生分數是{score}')\n",
    "\n",
    "print(\"應用程式結束\")"
   ]
  },
  {
   "cell_type": "code",
   "execution_count": 8,
   "metadata": {},
   "outputs": [
    {
     "name": "stdout",
     "output_type": "stream",
     "text": [
      "錯誤訊息:輸入分數不可以超過300分\n",
      "應用程式結束\n"
     ]
    }
   ],
   "source": [
    "#學生總分為300\n",
    "#有些學生可以加分5%\n",
    "#如果加分超過300,就以300分為準\n",
    "#手動raise Exception\n",
    "\n",
    "try:\n",
    "    score = int(input(\"請輸入學生分數(最高300分):\"))\n",
    "    if score > 300:\n",
    "        raise Exception(\"輸入分數不可以超過300分\")\n",
    "    is_add = input(\"學生是否符合加分條件?(y,n)\")\n",
    "\n",
    "    if is_add == 'y':\n",
    "        score *= 1.05\n",
    "        if score > 300:\n",
    "            score = 300\n",
    "\n",
    "    #print('學生分數是' + str(score))\n",
    "    print(f'學生分數是{score}')\n",
    "except ValueError:\n",
    "    print(\"輸入格式有錯\")\n",
    "except Exception as e:\n",
    "    print(f'錯誤訊息:{e}')\n",
    "\n",
    "print(\"應用程式結束\")"
   ]
  },
  {
   "cell_type": "code",
   "execution_count": 9,
   "metadata": {},
   "outputs": [
    {
     "name": "stdout",
     "output_type": "stream",
     "text": [
      "<60\n"
     ]
    }
   ],
   "source": [
    "value = 59\n",
    "if value >= 90:\n",
    "    print(\"90以上區段\")\n",
    "elif value >= 80:    \n",
    "    print(\">=80,<90\")\n",
    "elif value >= 70:\n",
    "    print(\"<80,>=70\")\n",
    "elif value >=60:\n",
    "    print(\"<70,>=60\")\n",
    "else:\n",
    "    print(\"<60\")"
   ]
  },
  {
   "cell_type": "code",
   "execution_count": 3,
   "metadata": {},
   "outputs": [
    {
     "name": "stdout",
     "output_type": "stream",
     "text": [
      "你的bmi是6.1\n",
      "您的體重過輕\n"
     ]
    }
   ],
   "source": [
    "\n",
    "\n",
    "try:\n",
    "    height = int(input(\"請輸入身高(公分):\"))\n",
    "    weight = int(input(\"請輸入體重(公斤):\"))\n",
    "    bmi=weight/((height/100)**2)\n",
    "    print(f\"你的bmi是{bmi:.1f}\")\n",
    "\n",
    "    if bmi >=35:\n",
    "        print(\"您是重度肥胖\")\n",
    "    elif bmi>=30:\n",
    "        print(\"您是中度肥胖\")\n",
    "    elif bmi>=27:\n",
    "        print(\"您是輕度度肥胖\")\n",
    "    elif bmi>=24:\n",
    "        print(\"您的體重過重\")    \n",
    "    elif bmi<18.5:\n",
    "        print(\"您的體重過輕\")    \n",
    "    else:\n",
    "        print(\"您的體重正常\")\n",
    "    \n",
    "\n",
    "except ValueError:\n",
    "    print(\"輸入格式錯誤\")\n",
    "except Exception as e:\n",
    "    print(f\"錯誤訊息:{e}\")\n",
    "except Exception:\n",
    "    print(\"不知名錯誤\")\n"
   ]
  },
  {
   "cell_type": "code",
   "execution_count": 4,
   "metadata": {},
   "outputs": [
    {
     "name": "stdout",
     "output_type": "stream",
     "text": [
      "您的BMI值為: 26.57\n",
      "您的體重狀況為: 過重\n"
     ]
    }
   ],
   "source": [
    "# 輸入身高（公分）和體重（公斤）\n",
    "height_cm = float(input(\"請輸入您的身高（公分）: \"))\n",
    "weight_kg = float(input(\"請輸入您的體重（公斤）: \"))\n",
    "\n",
    "# 將身高轉換為公尺\n",
    "height_m = height_cm / 100\n",
    "\n",
    "# 計算BMI值\n",
    "bmi = weight_kg / (height_m ** 2)\n",
    "\n",
    "# 判斷體重狀況\n",
    "if bmi < 18.5:\n",
    "    status = \"體重過輕\"\n",
    "elif 18.5 <= bmi < 24:\n",
    "    status = \"體重正常\"\n",
    "elif 24 <= bmi < 27:\n",
    "    status = \"過重\"\n",
    "elif 27 <= bmi < 30:\n",
    "    status = \"輕度肥胖\"\n",
    "elif 30 <= bmi < 35:\n",
    "    status = \"中度肥胖\"\n",
    "else:\n",
    "    status = \"重度肥胖\"\n",
    "\n",
    "# 輸出結果\n",
    "print(f\"您的BMI值為: {bmi:.2f}\")\n",
    "print(f\"您的體重狀況為: {status}\")\n",
    "\n"
   ]
  },
  {
   "cell_type": "code",
   "execution_count": 1,
   "metadata": {},
   "outputs": [
    {
     "name": "stdout",
     "output_type": "stream",
     "text": [
      "您的BMI值為: 69.20\n",
      "您的體重狀況為: 重度肥胖\n"
     ]
    }
   ],
   "source": [
    "try:\n",
    "    height_cm = float(input(\"請輸入您的身高（公分）: \"))\n",
    "    weight_kg = float(input(\"請輸入您的體重（公斤）: \"))\n",
    "\n",
    "##### 將身高轉換為公尺\n",
    "    height_m = height_cm / 100\n",
    "\n",
    "##### 計算BMI值\n",
    "    bmi = weight_kg / (height_m ** 2)\n",
    "\n",
    "##### 判斷體重狀況\n",
    "    if bmi < 18.5:\n",
    "        status = \"體重過輕\"\n",
    "    elif 18.5 <= bmi < 24:\n",
    "        status = \"體重正常\"\n",
    "    elif 24 <= bmi < 27:\n",
    "        status = \"過重\"\n",
    "    elif 27 <= bmi < 30:\n",
    "        status = \"輕度肥胖\"\n",
    "    elif 30 <= bmi < 35:\n",
    "        status = \"中度肥胖\"\n",
    "    else:\n",
    "        status = \"重度肥胖\"\n",
    "\n",
    "##### 輸出結果\n",
    "    print(f\"您的BMI值為: {bmi:.2f}\")\n",
    "    print(f\"您的體重狀況為: {status}\")    \n",
    "\n",
    "##### 處理例外情況\n",
    "except ValueError:\n",
    "    print(\"輸入格式錯誤\")\n",
    "except Exception as e:\n",
    "    print(f\"錯誤訊息:{e}\")\n",
    "except Exception:\n",
    "    print(\"不知名錯誤\")"
   ]
  }
 ],
 "metadata": {
  "kernelspec": {
   "display_name": "venv1",
   "language": "python",
   "name": "python3"
  },
  "language_info": {
   "codemirror_mode": {
    "name": "ipython",
    "version": 3
   },
   "file_extension": ".py",
   "mimetype": "text/x-python",
   "name": "python",
   "nbconvert_exporter": "python",
   "pygments_lexer": "ipython3",
   "version": "3.11.9"
  }
 },
 "nbformat": 4,
 "nbformat_minor": 2
}
