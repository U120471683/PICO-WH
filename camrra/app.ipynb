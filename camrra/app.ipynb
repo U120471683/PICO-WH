{
 "cells": [
  {
   "cell_type": "code",
   "execution_count": 4,
   "metadata": {},
   "outputs": [
    {
     "name": "stderr",
     "output_type": "stream",
     "text": [
      "2024-10-18 17:31:32.818 Thread 'MainThread': missing ScriptRunContext! This warning can be ignored when running in bare mode.\n",
      "2024-10-18 17:31:32.819 Thread 'MainThread': missing ScriptRunContext! This warning can be ignored when running in bare mode.\n"
     ]
    },
    {
     "ename": "KeyboardInterrupt",
     "evalue": "",
     "output_type": "error",
     "traceback": [
      "\u001b[1;31m---------------------------------------------------------------------------\u001b[0m",
      "\u001b[1;31mKeyboardInterrupt\u001b[0m                         Traceback (most recent call last)",
      "Cell \u001b[1;32mIn[4], line 8\u001b[0m\n\u001b[0;32m      6\u001b[0m \u001b[38;5;66;03m# 打开视频文件或摄像头\u001b[39;00m\n\u001b[0;32m      7\u001b[0m video_source \u001b[38;5;241m=\u001b[39m \u001b[38;5;241m0\u001b[39m  \u001b[38;5;66;03m# 0 表示默认摄像头\u001b[39;00m\n\u001b[1;32m----> 8\u001b[0m cap \u001b[38;5;241m=\u001b[39m \u001b[43mcv2\u001b[49m\u001b[38;5;241;43m.\u001b[39;49m\u001b[43mVideoCapture\u001b[49m\u001b[43m(\u001b[49m\u001b[43mvideo_source\u001b[49m\u001b[43m)\u001b[49m\n\u001b[0;32m     10\u001b[0m \u001b[38;5;66;03m# 创建一个占位符\u001b[39;00m\n\u001b[0;32m     11\u001b[0m frame_placeholder \u001b[38;5;241m=\u001b[39m st\u001b[38;5;241m.\u001b[39mempty()\n",
      "\u001b[1;31mKeyboardInterrupt\u001b[0m: "
     ]
    }
   ],
   "source": [
    "import streamlit as st\n",
    "import cv2\n",
    "\n",
    "st.title(\"Video Stream\")\n",
    "\n",
    "# 打开视频文件或摄像头\n",
    "video_source = 0  # 0 表示默认摄像头\n",
    "cap = cv2.VideoCapture(video_source)\n",
    "\n",
    "# 创建一个占位符\n",
    "frame_placeholder = st.empty()\n",
    "\n",
    "# 读取视频流并显示\n",
    "while True:\n",
    "    ret, frame = cap.read()\n",
    "    if not ret:\n",
    "        st.write(\"无法读取视频流\")\n",
    "        break\n",
    "    frame_placeholder.image(frame, channels=\"BGR\")"
   ]
  }
 ],
 "metadata": {
  "kernelspec": {
   "display_name": "venv1",
   "language": "python",
   "name": "python3"
  },
  "language_info": {
   "codemirror_mode": {
    "name": "ipython",
    "version": 3
   },
   "file_extension": ".py",
   "mimetype": "text/x-python",
   "name": "python",
   "nbconvert_exporter": "python",
   "pygments_lexer": "ipython3",
   "version": "3.11.9"
  }
 },
 "nbformat": 4,
 "nbformat_minor": 2
}
